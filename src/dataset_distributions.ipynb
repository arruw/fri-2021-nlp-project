{
 "cells": [
  {
   "cell_type": "code",
   "execution_count": 3,
   "metadata": {},
   "outputs": [],
   "source": [
    "import seaborn as sns\n",
    "import matplotlib.pyplot as plt\n",
    "import pandas as pd\n",
    "import numpy as np"
   ]
  },
  {
   "cell_type": "markdown",
   "metadata": {},
   "source": [
    "HASOC Dataset"
   ]
  },
  {
   "cell_type": "code",
   "execution_count": 4,
   "metadata": {},
   "outputs": [],
   "source": [
    "en_train = pd.read_csv(\"../data/non-processed/dataset13/hasoc2019/english/english_dataset/english_dataset.tsv\", sep='\\t')\n",
    "en_test = pd.read_csv(\"../data/non-processed/dataset13/hasoc2019/english/english_dataset/hasoc2019_en_test-2919.tsv\", sep='\\t')\n",
    "de_train = pd.read_csv(\"../data/non-processed/dataset13/hasoc2019/german/german_dataset/german_dataset.tsv\", sep='\\t')\n",
    "de_test = pd.read_csv(\"../data/non-processed/dataset13/hasoc2019/german/german_dataset/hasoc_de_test_gold.tsv\", sep='\\t')\n",
    "hi_train = pd.read_csv(\"../data/non-processed/dataset13/hasoc2019/hindi/hindi_dataset/hindi_dataset.tsv\", sep='\\t')\n",
    "hi_test = pd.read_csv(\"../data/non-processed/dataset13/hasoc2019/hindi/hindi_dataset/hasoc2019_hi_test_gold_2919.tsv\", sep='\\t')"
   ]
  },
  {
   "cell_type": "code",
   "execution_count": 5,
   "metadata": {},
   "outputs": [
    {
     "data": {
      "text/html": [
       "<div>\n",
       "<style scoped>\n",
       "    .dataframe tbody tr th:only-of-type {\n",
       "        vertical-align: middle;\n",
       "    }\n",
       "\n",
       "    .dataframe tbody tr th {\n",
       "        vertical-align: top;\n",
       "    }\n",
       "\n",
       "    .dataframe thead th {\n",
       "        text-align: right;\n",
       "    }\n",
       "</style>\n",
       "<table border=\"1\" class=\"dataframe\">\n",
       "  <thead>\n",
       "    <tr style=\"text-align: right;\">\n",
       "      <th></th>\n",
       "      <th>text_id</th>\n",
       "      <th>text</th>\n",
       "      <th>task_1</th>\n",
       "      <th>task_2</th>\n",
       "      <th>task_3</th>\n",
       "    </tr>\n",
       "  </thead>\n",
       "  <tbody>\n",
       "    <tr>\n",
       "      <th>0</th>\n",
       "      <td>hasoc_en_1</td>\n",
       "      <td>#DhoniKeepsTheGlove | WATCH: Sports Minister K...</td>\n",
       "      <td>NOT</td>\n",
       "      <td>NONE</td>\n",
       "      <td>NONE</td>\n",
       "    </tr>\n",
       "    <tr>\n",
       "      <th>1</th>\n",
       "      <td>hasoc_en_2</td>\n",
       "      <td>@politico No. We should remember very clearly ...</td>\n",
       "      <td>HOF</td>\n",
       "      <td>HATE</td>\n",
       "      <td>TIN</td>\n",
       "    </tr>\n",
       "    <tr>\n",
       "      <th>2</th>\n",
       "      <td>hasoc_en_3</td>\n",
       "      <td>@cricketworldcup Guess who would be the winner...</td>\n",
       "      <td>NOT</td>\n",
       "      <td>NONE</td>\n",
       "      <td>NONE</td>\n",
       "    </tr>\n",
       "  </tbody>\n",
       "</table>\n",
       "</div>"
      ],
      "text/plain": [
       "      text_id                                               text task_1  \\\n",
       "0  hasoc_en_1  #DhoniKeepsTheGlove | WATCH: Sports Minister K...    NOT   \n",
       "1  hasoc_en_2  @politico No. We should remember very clearly ...    HOF   \n",
       "2  hasoc_en_3  @cricketworldcup Guess who would be the winner...    NOT   \n",
       "\n",
       "  task_2 task_3  \n",
       "0   NONE   NONE  \n",
       "1   HATE    TIN  \n",
       "2   NONE   NONE  "
      ]
     },
     "execution_count": 5,
     "metadata": {},
     "output_type": "execute_result"
    }
   ],
   "source": [
    "en_train.head(3)"
   ]
  },
  {
   "cell_type": "code",
   "execution_count": 18,
   "metadata": {},
   "outputs": [
    {
     "data": {
      "text/html": [
       "<div>\n",
       "<style scoped>\n",
       "    .dataframe tbody tr th:only-of-type {\n",
       "        vertical-align: middle;\n",
       "    }\n",
       "\n",
       "    .dataframe tbody tr th {\n",
       "        vertical-align: top;\n",
       "    }\n",
       "\n",
       "    .dataframe thead th {\n",
       "        text-align: right;\n",
       "    }\n",
       "</style>\n",
       "<table border=\"1\" class=\"dataframe\">\n",
       "  <thead>\n",
       "    <tr style=\"text-align: right;\">\n",
       "      <th></th>\n",
       "      <th>text_id</th>\n",
       "      <th>text</th>\n",
       "      <th>task_1</th>\n",
       "      <th>task_2</th>\n",
       "      <th>task_3</th>\n",
       "    </tr>\n",
       "  </thead>\n",
       "  <tbody>\n",
       "    <tr>\n",
       "      <th>0</th>\n",
       "      <td>hasoc_en_902</td>\n",
       "      <td>West Bengal Doctor Crisis: Protesting doctors ...</td>\n",
       "      <td>NOT</td>\n",
       "      <td>NONE</td>\n",
       "      <td>NONE</td>\n",
       "    </tr>\n",
       "    <tr>\n",
       "      <th>1</th>\n",
       "      <td>hasoc_en_416</td>\n",
       "      <td>68.5 million people have been forced to leave ...</td>\n",
       "      <td>NOT</td>\n",
       "      <td>NONE</td>\n",
       "      <td>NONE</td>\n",
       "    </tr>\n",
       "    <tr>\n",
       "      <th>2</th>\n",
       "      <td>hasoc_en_207</td>\n",
       "      <td>You came, you saw .... we will look after the ...</td>\n",
       "      <td>NOT</td>\n",
       "      <td>NONE</td>\n",
       "      <td>NONE</td>\n",
       "    </tr>\n",
       "  </tbody>\n",
       "</table>\n",
       "</div>"
      ],
      "text/plain": [
       "        text_id                                               text task_1  \\\n",
       "0  hasoc_en_902  West Bengal Doctor Crisis: Protesting doctors ...    NOT   \n",
       "1  hasoc_en_416  68.5 million people have been forced to leave ...    NOT   \n",
       "2  hasoc_en_207  You came, you saw .... we will look after the ...    NOT   \n",
       "\n",
       "  task_2 task_3  \n",
       "0   NONE   NONE  \n",
       "1   NONE   NONE  \n",
       "2   NONE   NONE  "
      ]
     },
     "execution_count": 18,
     "metadata": {},
     "output_type": "execute_result"
    }
   ],
   "source": [
    "en_test.head(3)"
   ]
  },
  {
   "cell_type": "code",
   "execution_count": 63,
   "metadata": {},
   "outputs": [
    {
     "data": {
      "text/plain": [
       "<seaborn.axisgrid.FacetGrid at 0x26312334160>"
      ]
     },
     "execution_count": 63,
     "metadata": {},
     "output_type": "execute_result"
    },
    {
     "data": {
      "image/png": "[encoded data removed]",
      "text/plain": [
       "<Figure size 417.25x360 with 1 Axes>"
      ]
     },
     "metadata": {
      "needs_background": "light"
     },
     "output_type": "display_data"
    },
    {
     "data": {
      "image/png": "[encoded data removed]",
      "text/plain": [
       "<Figure size 417.25x360 with 1 Axes>"
      ]
     },
     "metadata": {
      "needs_background": "light"
     },
     "output_type": "display_data"
    }
   ],
   "source": [
    "sns.displot(en_train, x=\"task_2\", hue=\"task_1\", multiple=\"stack\", label=\"EN Train\")\n",
    "sns.displot(en_test, x=\"task_2\", hue=\"task_1\", multiple=\"stack\", label=\"EN Test\")"
   ]
  },
  {
   "cell_type": "code",
   "execution_count": 71,
   "metadata": {},
   "outputs": [
    {
     "data": {
      "text/plain": [
       "<seaborn.axisgrid.FacetGrid at 0x263125f9d00>"
      ]
     },
     "execution_count": 71,
     "metadata": {},
     "output_type": "execute_result"
    },
    {
     "data": {
      "image/png": "[encoded data removed]",
      "text/plain": [
       "<Figure size 417.25x360 with 1 Axes>"
      ]
     },
     "metadata": {
      "needs_background": "light"
     },
     "output_type": "display_data"
    },
    {
     "data": {
      "image/png": "[encoded data removed]",
      "text/plain": [
       "<Figure size 417.25x360 with 1 Axes>"
      ]
     },
     "metadata": {
      "needs_background": "light"
     },
     "output_type": "display_data"
    }
   ],
   "source": [
    "sns.displot(de_train, x=\"task_2\", hue=\"task_1\", multiple=\"stack\")\n",
    "sns.displot(de_test, x=\"task_2\", hue=\"task_1\", multiple=\"stack\")"
   ]
  },
  {
   "cell_type": "code",
   "execution_count": 68,
   "metadata": {},
   "outputs": [
    {
     "data": {
      "text/plain": [
       "<seaborn.axisgrid.FacetGrid at 0x26312327a30>"
      ]
     },
     "execution_count": 68,
     "metadata": {},
     "output_type": "execute_result"
    },
    {
     "data": {
      "image/png": "[encoded data removed]",
      "text/plain": [
       "<Figure size 417.25x360 with 1 Axes>"
      ]
     },
     "metadata": {
      "needs_background": "light"
     },
     "output_type": "display_data"
    },
    {
     "data": {
      "image/png": "[encoded data removed]",
      "text/plain": [
       "<Figure size 417.25x360 with 1 Axes>"
      ]
     },
     "metadata": {
      "needs_background": "light"
     },
     "output_type": "display_data"
    }
   ],
   "source": [
    "sns.displot(hi_train, x=\"task_2\", hue=\"task_1\", multiple=\"stack\")\n",
    "sns.displot(hi_test, x=\"task_2\", hue=\"task_1\", multiple=\"stack\")"
   ]
  },
  {
   "cell_type": "code",
   "execution_count": 6,
   "metadata": {},
   "outputs": [
    {
     "data": {
      "image/png": "[encoded data removed]",
      "text/plain": [
       "<Figure size 432x288 with 1 Axes>"
      ]
     },
     "metadata": {
      "needs_background": "light"
     },
     "output_type": "display_data"
    }
   ],
   "source": [
    "sns.histplot(data=en_train, x=\"task_2\", color=\"skyblue\", label=\"EN Train - task_2\", kde=False, shrink=.8)\n",
    "sns.histplot(data=en_test, x=\"task_2\", color=\"violet\", label=\"EN Test - task_2\", kde=False, shrink=.8)\n",
    "plt.legend() \n",
    "plt.savefig(\"../results/plots/en_train_test.png\", bbox_inches=\"tight\")\n",
    "plt.show()\n"
   ]
  },
  {
   "cell_type": "code",
   "execution_count": 7,
   "metadata": {},
   "outputs": [
    {
     "data": {
      "image/png": "[encoded data removed]",
      "text/plain": [
       "<Figure size 432x288 with 1 Axes>"
      ]
     },
     "metadata": {
      "needs_background": "light"
     },
     "output_type": "display_data"
    }
   ],
   "source": [
    "sns.histplot(data=de_train, x=\"task_2\", color=\"skyblue\", label=\"DE Train - task_2\", kde=False, shrink=.8)\n",
    "sns.histplot(data=de_test, x=\"task_2\", color=\"violet\", label=\"DE Test - task_2\", kde=False, shrink=.8)\n",
    "\n",
    "plt.legend()\n",
    "plt.savefig(\"../results/plots/de_train_test.png\", bbox_inches=\"tight\")\n",
    "plt.show()"
   ]
  },
  {
   "cell_type": "code",
   "execution_count": 8,
   "metadata": {},
   "outputs": [
    {
     "data": {
      "image/png": "[encoded data removed]",
      "text/plain": [
       "<Figure size 432x288 with 1 Axes>"
      ]
     },
     "metadata": {
      "needs_background": "light"
     },
     "output_type": "display_data"
    }
   ],
   "source": [
    "sns.histplot(data=hi_train, x=\"task_2\", color=\"skyblue\", label=\"HI Train - task_2\", kde=False, shrink=.8)\n",
    "sns.histplot(data=hi_test, x=\"task_2\", color=\"violet\", label=\"HI Test - task_2\", kde=False, shrink=.8)\n",
    "\n",
    "plt.legend() \n",
    "plt.savefig(\"../results/plots/hi_train_test.png\", bbox_inches=\"tight\")\n",
    "plt.show()"
   ]
  },
  {
   "cell_type": "code",
   "execution_count": 9,
   "metadata": {},
   "outputs": [
    {
     "data": {
      "image/png": "[encoded data removed]",
      "text/plain": [
       "<Figure size 432x288 with 1 Axes>"
      ]
     },
     "metadata": {
      "needs_background": "light"
     },
     "output_type": "display_data"
    }
   ],
   "source": [
    "sns.histplot(data=en_train, x=\"task_2\", color=\"skyblue\", label=\"EN Train - task_2\", kde=False)\n",
    "sns.histplot(data=hi_train, x=\"task_2\", color=\"gold\", label=\"HI Train - task_2\", kde=False, shrink=.8)\n",
    "sns.histplot(data=de_train, x=\"task_2\", color=\"violet\", label=\"DE Train - task_2\", kde=False, shrink=.5)\n",
    "plt.legend() \n",
    "plt.savefig(\"../results/plots/en_de_hi_train.png\", bbox_inches=\"tight\")\n",
    "plt.show()"
   ]
  },
  {
   "cell_type": "code",
   "execution_count": 10,
   "metadata": {},
   "outputs": [
    {
     "data": {
      "image/png": "[encoded data removed]",
      "text/plain": [
       "<Figure size 432x288 with 1 Axes>"
      ]
     },
     "metadata": {
      "needs_background": "light"
     },
     "output_type": "display_data"
    }
   ],
   "source": [
    "sns.histplot(data=en_test, x=\"task_2\", color=\"skyblue\", label=\"EN Test - task_2\", kde=False)\n",
    "sns.histplot(data=hi_test, x=\"task_2\", color=\"gold\", label=\"HI Test - task_2\", kde=False, shrink=.8)\n",
    "sns.histplot(data=de_test, x=\"task_2\", color=\"violet\", label=\"DE Test - task_2\", kde=False, shrink=.5)\n",
    "plt.legend() \n",
    "plt.savefig(\"../results/plots/en_de_hi_test.png\", bbox_inches=\"tight\")\n",
    "plt.show()"
   ]
  },
  {
   "cell_type": "code",
   "execution_count": 11,
   "metadata": {},
   "outputs": [
    {
     "data": {
      "image/png": "[encoded data removed]",
      "text/plain": [
       "<Figure size 432x288 with 1 Axes>"
      ]
     },
     "metadata": {
      "needs_background": "light"
     },
     "output_type": "display_data"
    }
   ],
   "source": [
    "sns.histplot(data=en_test, x=\"task_1\", color=\"skyblue\", label=\"EN Test - task_1\", kde=False, shrink=0.9)\n",
    "sns.histplot(data=hi_test, x=\"task_1\", color=\"gold\", label=\"HI Test - task_1\", kde=False, shrink=.8)\n",
    "sns.histplot(data=de_test, x=\"task_1\", color=\"violet\", label=\"DE Test - task_1\", kde=False, shrink=.5)\n",
    "plt.legend() \n",
    "plt.savefig(\"../results/plots/en_de_hi_test_task1.png\", bbox_inches=\"tight\")\n",
    "plt.show()"
   ]
  },
  {
   "cell_type": "code",
   "execution_count": 12,
   "metadata": {},
   "outputs": [
    {
     "data": {
      "image/png": "[encoded data removed]",
      "text/plain": [
       "<Figure size 432x288 with 1 Axes>"
      ]
     },
     "metadata": {
      "needs_background": "light"
     },
     "output_type": "display_data"
    }
   ],
   "source": [
    "sns.histplot(data=en_train, x=\"task_1\", color=\"skyblue\", label=\"EN Train - task_1\", kde=False, shrink=0.9)\n",
    "sns.histplot(data=hi_train, x=\"task_1\", color=\"gold\", label=\"HI Train - task_1\", kde=False, shrink=.8)\n",
    "sns.histplot(data=de_train, x=\"task_1\", color=\"violet\", label=\"DE Train - task_1\", kde=False, shrink=.5)\n",
    "plt.legend() \n",
    "plt.savefig(\"../results/plots/en_de_hi_train_task1.png\", bbox_inches=\"tight\")\n",
    "plt.show()"
   ]
  },
  {
   "cell_type": "code",
   "execution_count": null,
   "metadata": {},
   "outputs": [],
   "source": []
  },
  {
   "cell_type": "markdown",
   "metadata": {},
   "source": [
    "GAB and REDDIT"
   ]
  },
  {
   "cell_type": "code",
   "execution_count": 15,
   "metadata": {},
   "outputs": [],
   "source": [
    "gab = pd.read_csv(\"../data/non-processed/gab.csv\")\n",
    "reddit = pd.read_csv(\"../data/non-processed/reddit.csv\")"
   ]
  },
  {
   "cell_type": "code",
   "execution_count": 14,
   "metadata": {},
   "outputs": [
    {
     "data": {
      "text/html": [
       "<div>\n",
       "<style scoped>\n",
       "    .dataframe tbody tr th:only-of-type {\n",
       "        vertical-align: middle;\n",
       "    }\n",
       "\n",
       "    .dataframe tbody tr th {\n",
       "        vertical-align: top;\n",
       "    }\n",
       "\n",
       "    .dataframe thead th {\n",
       "        text-align: right;\n",
       "    }\n",
       "</style>\n",
       "<table border=\"1\" class=\"dataframe\">\n",
       "  <thead>\n",
       "    <tr style=\"text-align: right;\">\n",
       "      <th></th>\n",
       "      <th>id</th>\n",
       "      <th>text</th>\n",
       "      <th>hate_speech_idx</th>\n",
       "      <th>response</th>\n",
       "    </tr>\n",
       "  </thead>\n",
       "  <tbody>\n",
       "    <tr>\n",
       "      <th>0</th>\n",
       "      <td>1. 39869714\\n</td>\n",
       "      <td>1. i joined gab to remind myself how retarded ...</td>\n",
       "      <td>[1]</td>\n",
       "      <td>[\"Using words that insult one group while defe...</td>\n",
       "    </tr>\n",
       "    <tr>\n",
       "      <th>1</th>\n",
       "      <td>1. 39845588\\n2. \\t39848775\\n3. \\t\\t39911017\\n</td>\n",
       "      <td>1. This is what the left is really scared of. ...</td>\n",
       "      <td>[3]</td>\n",
       "      <td>['You can disagree with someones opinion witho...</td>\n",
       "    </tr>\n",
       "    <tr>\n",
       "      <th>2</th>\n",
       "      <td>1. 37485560\\n2. \\t37528625\\n</td>\n",
       "      <td>1. It makes you an asshole.\\n2. \\tGive it to a...</td>\n",
       "      <td>[2]</td>\n",
       "      <td>['Your argument is more rational if you leave ...</td>\n",
       "    </tr>\n",
       "    <tr>\n",
       "      <th>3</th>\n",
       "      <td>1. 39787626\\n2. \\t39794481\\n</td>\n",
       "      <td>1. So they manage to provide a whole lot of da...</td>\n",
       "      <td>[2]</td>\n",
       "      <td>[\"You shouldn't generalize a specific group or...</td>\n",
       "    </tr>\n",
       "    <tr>\n",
       "      <th>4</th>\n",
       "      <td>1. 37957930\\n2. \\t39953348\\n3. \\t\\t39965219\\n</td>\n",
       "      <td>1. Hi there, i,m Keith, i hope you are doing w...</td>\n",
       "      <td>[3]</td>\n",
       "      <td>['If someone is rude it is better to ignore th...</td>\n",
       "    </tr>\n",
       "  </tbody>\n",
       "</table>\n",
       "</div>"
      ],
      "text/plain": [
       "                                              id  \\\n",
       "0                                  1. 39869714\\n   \n",
       "1  1. 39845588\\n2. \\t39848775\\n3. \\t\\t39911017\\n   \n",
       "2                   1. 37485560\\n2. \\t37528625\\n   \n",
       "3                   1. 39787626\\n2. \\t39794481\\n   \n",
       "4  1. 37957930\\n2. \\t39953348\\n3. \\t\\t39965219\\n   \n",
       "\n",
       "                                                text hate_speech_idx  \\\n",
       "0  1. i joined gab to remind myself how retarded ...             [1]   \n",
       "1  1. This is what the left is really scared of. ...             [3]   \n",
       "2  1. It makes you an asshole.\\n2. \\tGive it to a...             [2]   \n",
       "3  1. So they manage to provide a whole lot of da...             [2]   \n",
       "4  1. Hi there, i,m Keith, i hope you are doing w...             [3]   \n",
       "\n",
       "                                            response  \n",
       "0  [\"Using words that insult one group while defe...  \n",
       "1  ['You can disagree with someones opinion witho...  \n",
       "2  ['Your argument is more rational if you leave ...  \n",
       "3  [\"You shouldn't generalize a specific group or...  \n",
       "4  ['If someone is rude it is better to ignore th...  "
      ]
     },
     "execution_count": 14,
     "metadata": {},
     "output_type": "execute_result"
    }
   ],
   "source": [
    "gab.head()"
   ]
  },
  {
   "cell_type": "code",
   "execution_count": 114,
   "metadata": {},
   "outputs": [
    {
     "data": {
      "text/plain": [
       "1.0"
      ]
     },
     "execution_count": 114,
     "metadata": {},
     "output_type": "execute_result"
    }
   ],
   "source": [
    "float(gab[\"hate_speech_idx\"][0][1])"
   ]
  },
  {
   "cell_type": "code",
   "execution_count": 16,
   "metadata": {},
   "outputs": [
    {
     "data": {
      "text/plain": [
       "0           [1]\n",
       "1           [3]\n",
       "2           [2]\n",
       "3           [2]\n",
       "4           [3]\n",
       "          ...  \n",
       "11820       [2]\n",
       "11821       [2]\n",
       "11822       [3]\n",
       "11823    [2, 3]\n",
       "11824       [1]\n",
       "Name: hate_speech_idx, Length: 11825, dtype: object"
      ]
     },
     "execution_count": 16,
     "metadata": {},
     "output_type": "execute_result"
    }
   ],
   "source": [
    "gab[\"hate_speech_idx\"] = gab[\"hate_speech_idx\"].fillna('[0]')\n",
    "gab[\"hate_speech_idx\"]"
   ]
  },
  {
   "cell_type": "code",
   "execution_count": 18,
   "metadata": {},
   "outputs": [
    {
     "data": {
      "text/plain": [
       "0        1.0\n",
       "1        3.0\n",
       "2        2.0\n",
       "3        2.0\n",
       "4        3.0\n",
       "        ... \n",
       "11820    2.0\n",
       "11821    2.0\n",
       "11822    3.0\n",
       "11823    2.5\n",
       "11824    1.0\n",
       "Name: hate_speech_idx, Length: 11825, dtype: float64"
      ]
     },
     "execution_count": 18,
     "metadata": {},
     "output_type": "execute_result"
    }
   ],
   "source": [
    "import math\n",
    "hsi = []\n",
    "for item in gab[\"hate_speech_idx\"]:\n",
    "    if len(item[1:-1]) == 1:\n",
    "        hsi.append(float(item[1]))\n",
    "    else:\n",
    "        s = item[1:-1]\n",
    "        s = list(s)\n",
    "        s = list(filter(lambda x: x!= ',', s))\n",
    "        s = list(filter(lambda x: x!= ' ', s))\n",
    "        s = list(map(lambda x: int(x), s))        \n",
    "        hsi.append(np.mean(s))\n",
    "    \n",
    "gab[\"hate_speech_idx\"] = hsi\n",
    "gab[\"hate_speech_idx\"] "
   ]
  },
  {
   "cell_type": "code",
   "execution_count": 19,
   "metadata": {},
   "outputs": [
    {
     "data": {
      "text/plain": [
       "0        1.0\n",
       "1        3.0\n",
       "2        2.0\n",
       "3        2.0\n",
       "4        3.0\n",
       "        ... \n",
       "11820    2.0\n",
       "11821    2.0\n",
       "11822    3.0\n",
       "11823    2.5\n",
       "11824    1.0\n",
       "Name: hate_speech_idx, Length: 11825, dtype: float64"
      ]
     },
     "execution_count": 19,
     "metadata": {},
     "output_type": "execute_result"
    }
   ],
   "source": [
    "gab[\"hate_speech_idx\"] = gab[\"hate_speech_idx\"].fillna(0.)\n",
    "gab[\"hate_speech_idx\"]"
   ]
  },
  {
   "cell_type": "code",
   "execution_count": 20,
   "metadata": {},
   "outputs": [
    {
     "data": {
      "image/png": "[encoded data removed]",
      "text/plain": [
       "<Figure size 360x360 with 1 Axes>"
      ]
     },
     "metadata": {
      "needs_background": "light"
     },
     "output_type": "display_data"
    }
   ],
   "source": [
    "sns.displot(gab, x=\"hate_speech_idx\", multiple=\"stack\", binwidth=1.5, shrink=0.8)\n",
    "plt.savefig(\"../results/plots/gab_dist.png\", bbox_inches=\"tight\")"
   ]
  },
  {
   "cell_type": "code",
   "execution_count": 21,
   "metadata": {},
   "outputs": [
    {
     "data": {
      "text/html": [
       "<div>\n",
       "<style scoped>\n",
       "    .dataframe tbody tr th:only-of-type {\n",
       "        vertical-align: middle;\n",
       "    }\n",
       "\n",
       "    .dataframe tbody tr th {\n",
       "        vertical-align: top;\n",
       "    }\n",
       "\n",
       "    .dataframe thead th {\n",
       "        text-align: right;\n",
       "    }\n",
       "</style>\n",
       "<table border=\"1\" class=\"dataframe\">\n",
       "  <thead>\n",
       "    <tr style=\"text-align: right;\">\n",
       "      <th></th>\n",
       "      <th>id</th>\n",
       "      <th>text</th>\n",
       "      <th>hate_speech_idx</th>\n",
       "      <th>response</th>\n",
       "    </tr>\n",
       "  </thead>\n",
       "  <tbody>\n",
       "    <tr>\n",
       "      <th>0</th>\n",
       "      <td>1. e8q18lf\\n2. \\te8q9w5s\\n3. \\t\\te8qbobk\\n4. \\...</td>\n",
       "      <td>1. A subsection of retarded Hungarians? Ohh bo...</td>\n",
       "      <td>[1]</td>\n",
       "      <td>[\"I don't see a reason why it's okay to insult...</td>\n",
       "    </tr>\n",
       "    <tr>\n",
       "      <th>1</th>\n",
       "      <td>1. e9c6naz\\n2. \\te9d03a5\\n3. \\t\\te9d8e4d\\n</td>\n",
       "      <td>1. &gt; \"y'all hear sumn?\"  by all means I live i...</td>\n",
       "      <td>[3]</td>\n",
       "      <td>['Persons with disabilities is the accepted te...</td>\n",
       "    </tr>\n",
       "    <tr>\n",
       "      <th>2</th>\n",
       "      <td>1. e84rl2i\\n2. \\te84w60l\\n3. \\t\\te8544rn\\n4. \\...</td>\n",
       "      <td>1. wouldn't the defenders or whatever they are...</td>\n",
       "      <td>NaN</td>\n",
       "      <td>NaN</td>\n",
       "    </tr>\n",
       "    <tr>\n",
       "      <th>3</th>\n",
       "      <td>1. e7kq72n\\n2. \\te7m24ar\\n</td>\n",
       "      <td>1. Because the Japanese aren't retarded and kn...</td>\n",
       "      <td>[1]</td>\n",
       "      <td>[\"It's not right for anyone of any gender to b...</td>\n",
       "    </tr>\n",
       "    <tr>\n",
       "      <th>4</th>\n",
       "      <td>1. e7hdgoh\\n2. \\te7iyj6a\\n3. \\t\\te7j6iho\\n4. \\...</td>\n",
       "      <td>1. That might be true if we didn't have an exa...</td>\n",
       "      <td>[2, 3]</td>\n",
       "      <td>[\"You shouldn't be bringing up sensitive topic...</td>\n",
       "    </tr>\n",
       "  </tbody>\n",
       "</table>\n",
       "</div>"
      ],
      "text/plain": [
       "                                                  id  \\\n",
       "0  1. e8q18lf\\n2. \\te8q9w5s\\n3. \\t\\te8qbobk\\n4. \\...   \n",
       "1         1. e9c6naz\\n2. \\te9d03a5\\n3. \\t\\te9d8e4d\\n   \n",
       "2  1. e84rl2i\\n2. \\te84w60l\\n3. \\t\\te8544rn\\n4. \\...   \n",
       "3                         1. e7kq72n\\n2. \\te7m24ar\\n   \n",
       "4  1. e7hdgoh\\n2. \\te7iyj6a\\n3. \\t\\te7j6iho\\n4. \\...   \n",
       "\n",
       "                                                text hate_speech_idx  \\\n",
       "0  1. A subsection of retarded Hungarians? Ohh bo...             [1]   \n",
       "1  1. > \"y'all hear sumn?\"  by all means I live i...             [3]   \n",
       "2  1. wouldn't the defenders or whatever they are...             NaN   \n",
       "3  1. Because the Japanese aren't retarded and kn...             [1]   \n",
       "4  1. That might be true if we didn't have an exa...          [2, 3]   \n",
       "\n",
       "                                            response  \n",
       "0  [\"I don't see a reason why it's okay to insult...  \n",
       "1  ['Persons with disabilities is the accepted te...  \n",
       "2                                                NaN  \n",
       "3  [\"It's not right for anyone of any gender to b...  \n",
       "4  [\"You shouldn't be bringing up sensitive topic...  "
      ]
     },
     "execution_count": 21,
     "metadata": {},
     "output_type": "execute_result"
    }
   ],
   "source": [
    "reddit.head()"
   ]
  },
  {
   "cell_type": "code",
   "execution_count": 22,
   "metadata": {},
   "outputs": [
    {
     "data": {
      "text/plain": [
       "0          [1]\n",
       "1          [3]\n",
       "2          [0]\n",
       "3          [1]\n",
       "4       [2, 3]\n",
       "         ...  \n",
       "5015       [8]\n",
       "5016       [0]\n",
       "5017    [1, 4]\n",
       "5018       [1]\n",
       "5019       [2]\n",
       "Name: hate_speech_idx, Length: 5020, dtype: object"
      ]
     },
     "execution_count": 22,
     "metadata": {},
     "output_type": "execute_result"
    }
   ],
   "source": [
    "reddit[\"hate_speech_idx\"] = reddit[\"hate_speech_idx\"].fillna('[0]')\n",
    "reddit[\"hate_speech_idx\"]"
   ]
  },
  {
   "cell_type": "code",
   "execution_count": 23,
   "metadata": {},
   "outputs": [
    {
     "data": {
      "text/plain": [
       "0       1.0\n",
       "1       3.0\n",
       "2       0.0\n",
       "3       1.0\n",
       "4       2.5\n",
       "       ... \n",
       "5015    8.0\n",
       "5016    0.0\n",
       "5017    2.5\n",
       "5018    1.0\n",
       "5019    2.0\n",
       "Name: hate_speech_idx, Length: 5020, dtype: float64"
      ]
     },
     "execution_count": 23,
     "metadata": {},
     "output_type": "execute_result"
    }
   ],
   "source": [
    "hsi_r = []\n",
    "for item in reddit[\"hate_speech_idx\"]:\n",
    "    if len(item[1:-1]) == 1:\n",
    "        hsi_r.append(float(item[1]))\n",
    "    else:\n",
    "        s = item[1:-1]\n",
    "        s = list(s)\n",
    "        s = list(filter(lambda x: x!= ',', s))\n",
    "        s = list(filter(lambda x: x!= ' ', s))\n",
    "        s = list(map(lambda x: int(x), s))        \n",
    "        hsi_r.append(np.mean(s))\n",
    "    \n",
    "reddit[\"hate_speech_idx\"] = hsi_r\n",
    "reddit[\"hate_speech_idx\"] = reddit[\"hate_speech_idx\"].fillna(0.)\n",
    "reddit[\"hate_speech_idx\"]"
   ]
  },
  {
   "cell_type": "code",
   "execution_count": 24,
   "metadata": {},
   "outputs": [
    {
     "data": {
      "image/png": "[encoded data removed]",
      "text/plain": [
       "<Figure size 360x360 with 1 Axes>"
      ]
     },
     "metadata": {
      "needs_background": "light"
     },
     "output_type": "display_data"
    }
   ],
   "source": [
    "sns.displot(reddit, x=\"hate_speech_idx\", multiple=\"stack\", binwidth=1.5, shrink=0.8)\n",
    "plt.savefig(\"../results/plots/reddit_dist.png\", bbox_inches=\"tight\")"
   ]
  },
  {
   "cell_type": "markdown",
   "metadata": {},
   "source": [
    "Multimodal Hate Speech the MMHS150K Dataset "
   ]
  },
  {
   "cell_type": "code",
   "execution_count": 25,
   "metadata": {},
   "outputs": [],
   "source": [
    "d12 = pd.read_csv(\"../data/non-processed/dataset12/MMHS150K.csv\")"
   ]
  },
  {
   "cell_type": "code",
   "execution_count": 26,
   "metadata": {},
   "outputs": [
    {
     "data": {
      "text/html": [
       "<div>\n",
       "<style scoped>\n",
       "    .dataframe tbody tr th:only-of-type {\n",
       "        vertical-align: middle;\n",
       "    }\n",
       "\n",
       "    .dataframe tbody tr th {\n",
       "        vertical-align: top;\n",
       "    }\n",
       "\n",
       "    .dataframe thead th {\n",
       "        text-align: right;\n",
       "    }\n",
       "</style>\n",
       "<table border=\"1\" class=\"dataframe\">\n",
       "  <thead>\n",
       "    <tr style=\"text-align: right;\">\n",
       "      <th></th>\n",
       "      <th>id</th>\n",
       "      <th>tweet</th>\n",
       "      <th>tweet_img_text</th>\n",
       "      <th>label</th>\n",
       "    </tr>\n",
       "  </thead>\n",
       "  <tbody>\n",
       "    <tr>\n",
       "      <th>0</th>\n",
       "      <td>1114679353714016256</td>\n",
       "      <td>@FriskDontMiss Nigga https://t.co/cAsaLWEpue</td>\n",
       "      <td>#YOUNGERU SAVE IT</td>\n",
       "      <td>OFF</td>\n",
       "    </tr>\n",
       "    <tr>\n",
       "      <th>1</th>\n",
       "      <td>1063020048816660480</td>\n",
       "      <td>My horses are retarded https://t.co/HYhqc6d5WN</td>\n",
       "      <td>NaN</td>\n",
       "      <td>OFF</td>\n",
       "    </tr>\n",
       "    <tr>\n",
       "      <th>2</th>\n",
       "      <td>1108927368075374593</td>\n",
       "      <td>“NIGGA ON MA MOMMA YOUNGBOY BE SPITTING REAL S...</td>\n",
       "      <td>NaN</td>\n",
       "      <td>NOT</td>\n",
       "    </tr>\n",
       "    <tr>\n",
       "      <th>3</th>\n",
       "      <td>1114558534635618305</td>\n",
       "      <td>RT xxSuGVNGxx: I ran into this HOLY NIGGA TODA...</td>\n",
       "      <td>NaN</td>\n",
       "      <td>NOT</td>\n",
       "    </tr>\n",
       "    <tr>\n",
       "      <th>4</th>\n",
       "      <td>1035252480215592966</td>\n",
       "      <td>“EVERYbody calling you Nigger now!” https://t....</td>\n",
       "      <td>NaN</td>\n",
       "      <td>OFF</td>\n",
       "    </tr>\n",
       "  </tbody>\n",
       "</table>\n",
       "</div>"
      ],
      "text/plain": [
       "                    id                                              tweet  \\\n",
       "0  1114679353714016256       @FriskDontMiss Nigga https://t.co/cAsaLWEpue   \n",
       "1  1063020048816660480     My horses are retarded https://t.co/HYhqc6d5WN   \n",
       "2  1108927368075374593  “NIGGA ON MA MOMMA YOUNGBOY BE SPITTING REAL S...   \n",
       "3  1114558534635618305  RT xxSuGVNGxx: I ran into this HOLY NIGGA TODA...   \n",
       "4  1035252480215592966  “EVERYbody calling you Nigger now!” https://t....   \n",
       "\n",
       "       tweet_img_text label  \n",
       "0  #YOUNGERU SAVE IT    OFF  \n",
       "1                 NaN   OFF  \n",
       "2                 NaN   NOT  \n",
       "3                 NaN   NOT  \n",
       "4                 NaN   OFF  "
      ]
     },
     "execution_count": 26,
     "metadata": {},
     "output_type": "execute_result"
    }
   ],
   "source": [
    "d12.head(5)"
   ]
  },
  {
   "cell_type": "code",
   "execution_count": 27,
   "metadata": {},
   "outputs": [
    {
     "data": {
      "image/png": "[encoded data removed]",
      "text/plain": [
       "<Figure size 360x360 with 1 Axes>"
      ]
     },
     "metadata": {
      "needs_background": "light"
     },
     "output_type": "display_data"
    }
   ],
   "source": [
    "sns.displot(d12, x=\"label\", multiple=\"stack\", binwidth=1.5, shrink=0.8)\n",
    "plt.savefig(\"../results/plots/MMHS150K_dist.png\", bbox_inches=\"tight\")"
   ]
  },
  {
   "cell_type": "code",
   "execution_count": null,
   "metadata": {},
   "outputs": [],
   "source": []
  },
  {
   "cell_type": "code",
   "execution_count": null,
   "metadata": {},
   "outputs": [],
   "source": []
  }
 ],
 "metadata": {
  "kernelspec": {
   "display_name": "Python 3",
   "language": "python",
   "name": "python3"
  },
  "language_info": {
   "codemirror_mode": {
    "name": "ipython",
    "version": 3
   },
   "file_extension": ".py",
   "mimetype": "text/x-python",
   "name": "python",
   "nbconvert_exporter": "python",
   "pygments_lexer": "ipython3",
   "version": "3.8.0"
  }
 },
 "nbformat": 4,
 "nbformat_minor": 4
}
