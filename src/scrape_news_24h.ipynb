{
 "metadata": {
  "language_info": {
   "codemirror_mode": {
    "name": "ipython",
    "version": 3
   },
   "file_extension": ".py",
   "mimetype": "text/x-python",
   "name": "python",
   "nbconvert_exporter": "python",
   "pygments_lexer": "ipython3",
   "version": "3.6.13"
  },
  "orig_nbformat": 2,
  "kernelspec": {
   "name": "python3613jvsc74a57bd08f0523b40f8f11b72f4158a3062e286928af15854e1529d4f375246e1121ff4b",
   "display_name": "Python 3.6.13 64-bit ('nlp': conda)"
  }
 },
 "nbformat": 4,
 "nbformat_minor": 2,
 "cells": [
  {
   "cell_type": "code",
   "execution_count": 1,
   "metadata": {},
   "outputs": [],
   "source": [
    "from pprint import pprint\n",
    "from hashlib import sha256\n",
    "from time import sleep\n",
    "from io import BytesIO\n",
    "from PIL import Image\n",
    "import csv\n",
    "\n",
    "import pandas as pd\n",
    "from selenium import webdriver\n",
    "from selenium.webdriver.firefox.options import Options\n",
    "from selenium.webdriver.support.ui import WebDriverWait\n",
    "from selenium.webdriver.support import expected_conditions as EC\n",
    "from selenium.webdriver.common.by import By\n",
    "from bs4 import BeautifulSoup\n",
    "from func_timeout import func_set_timeout, FunctionTimedOut\n",
    "from tqdm import tqdm\n",
    "\n",
    "# HACK: Add conda env to the PATH, this is needed for the Firefox dirver\n",
    "import os\n",
    "os.environ[\"PATH\"] += \":/home/matjazibb/miniconda3/envs/nlp/bin\""
   ]
  },
  {
   "source": [
    "## 24h News - Scraping "
   ],
   "cell_type": "markdown",
   "metadata": {}
  },
  {
   "cell_type": "code",
   "execution_count": 2,
   "metadata": {},
   "outputs": [],
   "source": [
    "def get_screenshot(driver):\n",
    "    png = driver.get_screenshot_as_png()\n",
    "    img = Image.open(BytesIO(png))\n",
    "    return img"
   ]
  },
  {
   "cell_type": "code",
   "execution_count": 3,
   "metadata": {},
   "outputs": [],
   "source": [
    "def news24h_get_total_comments(driver):\n",
    "    selector = \"div.article__details .article__details-item.c-pointer.link.link--plain div.article__details-content > div.article__details-main\"\n",
    "    return int(driver.find_element_by_css_selector(selector).text.strip())\n",
    "\n",
    "def news24h_get_loaded_comments(driver):\n",
    "    # selector = \"#onl-article-comments > div > div.title.title--medium.title--icon.title--noborder > h3 > span\"\n",
    "    # return int(driver.find_element_by_css_selector(selector).text.strip()[1:-1])\n",
    "    selector = \"div.article__comments div.comment[id]\"\n",
    "    return len(driver.find_elements_by_css_selector(selector))\n",
    "\n",
    "def news24h_accept_cookies(driver):\n",
    "    selector = \"onl-cookie > div > div > div > div.cookies__right > a.button.button--large.button--primary.button--expanded.button--noborder\"\n",
    "    cookies_present = EC.element_to_be_clickable((By.CSS_SELECTOR, selector))\n",
    "    try:\n",
    "        WebDriverWait(driver, 5).until(cookies_present)\n",
    "        driver.find_element_by_css_selector(selector).click()\n",
    "        sleep(1)\n",
    "    except: pass\n",
    "\n",
    "@func_set_timeout(60)\n",
    "def news24h_expend_comments(driver):\n",
    "    try:\n",
    "        total_comments = news24h_get_total_comments(driver)\n",
    "        loaded_comments = news24h_get_loaded_comments(driver)\n",
    "        load_more_present = EC.element_to_be_clickable((By.CSS_SELECTOR , \"div.comments__more > button\"))\n",
    "        load_more_clickabke = EC.element_to_be_clickable((By.CSS_SELECTOR , \"div.comments__more > button\"))\n",
    "        while min(200, total_comments) > loaded_comments and load_more_present(driver) and load_more_clickabke(driver):\n",
    "            print(f\"Loading more comments ({loaded_comments}/{total_comments})...\")\n",
    "            driver.find_element_by_css_selector(\"div.comments__more > button\").click()\n",
    "            sleep(5)\n",
    "            loaded_comments = news24h_get_loaded_comments(driver)\n",
    "    except: pass"
   ]
  },
  {
   "cell_type": "code",
   "execution_count": 4,
   "metadata": {},
   "outputs": [],
   "source": [
    "def news_24h_load_comments(url):\n",
    "    assert url.startswith(\"https://www.24ur.com/\")\n",
    "\n",
    "    driver_optios = Options()\n",
    "    driver_optios.headless = True\n",
    "    with webdriver.Firefox(options=driver_optios) as driver:\n",
    "        driver.get(url)\n",
    "\n",
    "        # Accept cookies\n",
    "        news24h_accept_cookies(driver)\n",
    "\n",
    "        # Wait for comments section to be loaded\n",
    "        comments_present = EC.presence_of_element_located((By.CSS_SELECTOR, \"div.article__comments\"))\n",
    "        WebDriverWait(driver, 10).until(comments_present)\n",
    "\n",
    "        # Expend comments section by clicking on \"load more\" button, max 200 comments\n",
    "        try: news24h_expend_comments(driver)\n",
    "        except FunctionTimedOut: pass \n",
    "\n",
    "        html = BeautifulSoup(driver.page_source, 'html.parser')\n",
    "\n",
    "    comments = []\n",
    "\n",
    "    for comment in html.select(\"div.article__comments div.comment[id]\"):\n",
    "        id = comment.attrs[\"id\"]\n",
    "        author = sha256(comment.select_one(\"div.comment__header a.comment__author\").text.strip().encode()).hexdigest()\n",
    "        timestamp = comment.select_one(\"div.comment__header div.comment__timestamp\").text.strip()\n",
    "        body = comment.select_one(\"div.comment__body\").text.strip()\n",
    "\n",
    "        comments += [(url, id, timestamp, author, body)]\n",
    "\n",
    "    return comments"
   ]
  },
  {
   "source": [
    "## Scrape selected pages"
   ],
   "cell_type": "markdown",
   "metadata": {}
  },
  {
   "cell_type": "code",
   "execution_count": 5,
   "metadata": {},
   "outputs": [],
   "source": [
    "urls = [\n",
    "    \"https://www.24ur.com/novice/fokus/novinarstvo-je-kisik-demokracije.html\",\n",
    "    \"https://www.24ur.com/novice/tujina/severna-koreja-nad-bidna-in-lazno-diplomacijo-vodi-sovrazno-politiko.html\",\n",
    "    \"https://www.24ur.com/popin/glasba/billie-eilish-napovedala-prihod-novega-albuma.html\",\n",
    "    \"https://www.24ur.com/novice/znanost-in-tehnologija/zeleni-bitcoin.html\",\n",
    "    \"https://www.24ur.com/tv-oddaje/sanjski-moski/sanjskemu-moskemu-je-ob-postavni-kaji-postalo-vroce.html\",\n",
    "    \"https://www.24ur.com/novice/crna-kronika/islamska-skupnost-o-skrunitvi-grobov-v-domzalah-gre-za-javno-spodbujanje-sovrastva-nasilja-in-nestrpnosti.html\",\n",
    "]"
   ]
  },
  {
   "cell_type": "code",
   "execution_count": 6,
   "metadata": {},
   "outputs": [
    {
     "output_type": "stream",
     "name": "stderr",
     "text": [
      "  0%|          | 0/6 [00:00<?, ?it/s]Loading more comments (29/490)...\n",
      "Loading more comments (63/490)...\n",
      "Loading more comments (119/490)...\n",
      "Loading more comments (170/490)...\n",
      " 17%|█▋        | 1/6 [00:28<02:22, 28.55s/it]Loading more comments (31/49)...\n",
      " 50%|█████     | 3/6 [00:47<00:55, 18.53s/it]Loading more comments (75/171)...\n",
      "Loading more comments (132/171)...\n",
      " 67%|██████▋   | 4/6 [01:04<00:36, 18.26s/it]Loading more comments (24/48)...\n",
      " 83%|████████▎ | 5/6 [01:16<00:16, 16.33s/it]Loading more comments (24/428)...\n",
      "Loading more comments (56/428)...\n",
      "Loading more comments (96/428)...\n",
      "Loading more comments (132/428)...\n",
      "Loading more comments (172/428)...\n",
      "100%|██████████| 6/6 [01:50<00:00, 18.39s/it]\n"
     ]
    }
   ],
   "source": [
    "comments = []\n",
    "for url in tqdm(urls):\n",
    "    comments += news_24h_load_comments(url)"
   ]
  },
  {
   "cell_type": "code",
   "execution_count": 7,
   "metadata": {},
   "outputs": [],
   "source": [
    "comments_df = pd.DataFrame(comments, columns=[\"url\", \"id\", \"timestamp\", \"author\", \"body\"])"
   ]
  },
  {
   "cell_type": "code",
   "execution_count": 8,
   "metadata": {},
   "outputs": [],
   "source": [
    "!mkdir -p \"data/ours/news_24h\"\n",
    "comments_df.to_csv(\"data/ours/news_24h/raw.csv\", index=False, quoting=csv.QUOTE_ALL)"
   ]
  },
  {
   "cell_type": "code",
   "execution_count": 9,
   "metadata": {},
   "outputs": [
    {
     "output_type": "execute_result",
     "data": {
      "text/plain": [
       "                                                 url  \\\n",
       "0  https://www.24ur.com/novice/fokus/novinarstvo-...   \n",
       "1  https://www.24ur.com/novice/fokus/novinarstvo-...   \n",
       "2  https://www.24ur.com/novice/fokus/novinarstvo-...   \n",
       "3  https://www.24ur.com/novice/fokus/novinarstvo-...   \n",
       "4  https://www.24ur.com/novice/fokus/novinarstvo-...   \n",
       "\n",
       "                                                  id             timestamp  \\\n",
       "0                       c_01F4P7BHMZVJB9K0TXZS9TMBPF  02.05.2021, 11:43:06   \n",
       "1  c_01F4P7BHMZVJB9K0TXZS9TMBPF_01F4P7F72V2TBPFG7...  02.05.2021, 11:45:06   \n",
       "2                       c_01F4P79AV0WMMXF48J2T6M117V  02.05.2021, 11:41:54   \n",
       "3                       c_01F4P78MRBPHV4DWCZGZEZAZK7  02.05.2021, 11:41:31   \n",
       "4                       c_01F4P765PYDN54J3XGBTJ9KED6  02.05.2021, 11:40:10   \n",
       "\n",
       "                                              author  \\\n",
       "0  24471d8cf01a0482316844ce2117e2b10937833b483bfe...   \n",
       "1  0c64410e8ecc5ead90e484048afd6873f370d9d3c918bd...   \n",
       "2  fee0df776e4d4db012e0478065c908dc72529dc0a3d83c...   \n",
       "3  deba298c79866ae7e693835b3aee82542331be9a723381...   \n",
       "4  6051da199c1341f6783b7d0324c73af056d0542158040e...   \n",
       "\n",
       "                                                body  \n",
       "0  Desni nam bodo povedali kaj je demokracija, ti...  \n",
       "1  jp, oni vedo, jim je diktator pacient povedal ...  \n",
       "2        ker ni novica tega portala je ne smeš oment  \n",
       "3  Če bi obstajal pritisk na medije, ta članek sp...  \n",
       "4  Je pa Veselko pošten-je zavrnu 17 tisoč ponuje...  "
      ],
      "text/html": "<div>\n<style scoped>\n    .dataframe tbody tr th:only-of-type {\n        vertical-align: middle;\n    }\n\n    .dataframe tbody tr th {\n        vertical-align: top;\n    }\n\n    .dataframe thead th {\n        text-align: right;\n    }\n</style>\n<table border=\"1\" class=\"dataframe\">\n  <thead>\n    <tr style=\"text-align: right;\">\n      <th></th>\n      <th>url</th>\n      <th>id</th>\n      <th>timestamp</th>\n      <th>author</th>\n      <th>body</th>\n    </tr>\n  </thead>\n  <tbody>\n    <tr>\n      <th>0</th>\n      <td>https://www.24ur.com/novice/fokus/novinarstvo-...</td>\n      <td>c_01F4P7BHMZVJB9K0TXZS9TMBPF</td>\n      <td>02.05.2021, 11:43:06</td>\n      <td>24471d8cf01a0482316844ce2117e2b10937833b483bfe...</td>\n      <td>Desni nam bodo povedali kaj je demokracija, ti...</td>\n    </tr>\n    <tr>\n      <th>1</th>\n      <td>https://www.24ur.com/novice/fokus/novinarstvo-...</td>\n      <td>c_01F4P7BHMZVJB9K0TXZS9TMBPF_01F4P7F72V2TBPFG7...</td>\n      <td>02.05.2021, 11:45:06</td>\n      <td>0c64410e8ecc5ead90e484048afd6873f370d9d3c918bd...</td>\n      <td>jp, oni vedo, jim je diktator pacient povedal ...</td>\n    </tr>\n    <tr>\n      <th>2</th>\n      <td>https://www.24ur.com/novice/fokus/novinarstvo-...</td>\n      <td>c_01F4P79AV0WMMXF48J2T6M117V</td>\n      <td>02.05.2021, 11:41:54</td>\n      <td>fee0df776e4d4db012e0478065c908dc72529dc0a3d83c...</td>\n      <td>ker ni novica tega portala je ne smeš oment</td>\n    </tr>\n    <tr>\n      <th>3</th>\n      <td>https://www.24ur.com/novice/fokus/novinarstvo-...</td>\n      <td>c_01F4P78MRBPHV4DWCZGZEZAZK7</td>\n      <td>02.05.2021, 11:41:31</td>\n      <td>deba298c79866ae7e693835b3aee82542331be9a723381...</td>\n      <td>Če bi obstajal pritisk na medije, ta članek sp...</td>\n    </tr>\n    <tr>\n      <th>4</th>\n      <td>https://www.24ur.com/novice/fokus/novinarstvo-...</td>\n      <td>c_01F4P765PYDN54J3XGBTJ9KED6</td>\n      <td>02.05.2021, 11:40:10</td>\n      <td>6051da199c1341f6783b7d0324c73af056d0542158040e...</td>\n      <td>Je pa Veselko pošten-je zavrnu 17 tisoč ponuje...</td>\n    </tr>\n  </tbody>\n</table>\n</div>"
     },
     "metadata": {},
     "execution_count": 9
    }
   ],
   "source": [
    "comments_df.head()"
   ]
  }
 ]
}