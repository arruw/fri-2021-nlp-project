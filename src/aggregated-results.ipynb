{
 "metadata": {
  "language_info": {
   "codemirror_mode": {
    "name": "ipython",
    "version": 3
   },
   "file_extension": ".py",
   "mimetype": "text/x-python",
   "name": "python",
   "nbconvert_exporter": "python",
   "pygments_lexer": "ipython3",
   "version": "3.6.13"
  },
  "orig_nbformat": 2,
  "kernelspec": {
   "name": "python3613jvsc74a57bd08f0523b40f8f11b72f4158a3062e286928af15854e1529d4f375246e1121ff4b",
   "display_name": "Python 3.6.13 64-bit ('nlp': conda)"
  }
 },
 "nbformat": 4,
 "nbformat_minor": 2,
 "cells": [
  {
   "cell_type": "code",
   "execution_count": 1,
   "metadata": {},
   "outputs": [],
   "source": [
    "import pandas as pd\n",
    "import matplotlib.pyplot as plt"
   ]
  },
  {
   "cell_type": "code",
   "execution_count": 2,
   "metadata": {},
   "outputs": [
    {
     "output_type": "execute_result",
     "data": {
      "text/plain": [
       "            model_name        f1  precision    recall   roc_auc  \\\n",
       "0   LogReg-MMHS150K-en  0.455741   0.380883  0.567221  0.660454   \n",
       "1   RanFor-MMHS150K-en  0.318569   0.438756  0.250068  0.622628   \n",
       "2    Dummy-MMHS150K-en  0.000000   0.000000  0.000000  0.500000   \n",
       "3      LogReg-HASOC-en  0.507830   0.374587  0.788194  0.748174   \n",
       "4  LogReg-SentiNews-si  0.073491   0.291667  0.042042  0.507895   \n",
       "\n",
       "                                                 fpr  \\\n",
       "0  [0.00000000e+00 0.00000000e+00 2.65111347e-04 ...   \n",
       "1  [0.         0.0155532  0.0155532  ... 0.859667...   \n",
       "2                                            [0. 1.]   \n",
       "3  [0.         0.         0.         0.00462428 0...   \n",
       "4  [0.         0.         0.00390625 0.00390625 0...   \n",
       "\n",
       "                                                 tpr  \n",
       "0  [0.00000000e+00 2.72702482e-04 2.72702482e-04 ...  \n",
       "1  [0.         0.02672484 0.02699755 ... 0.897191...  \n",
       "2                                            [0. 1.]  \n",
       "3  [0.         0.00347222 0.01736111 0.01736111 0...  \n",
       "4  [0.         0.003003   0.003003   0.00600601 0...  "
      ],
      "text/html": "<div>\n<style scoped>\n    .dataframe tbody tr th:only-of-type {\n        vertical-align: middle;\n    }\n\n    .dataframe tbody tr th {\n        vertical-align: top;\n    }\n\n    .dataframe thead th {\n        text-align: right;\n    }\n</style>\n<table border=\"1\" class=\"dataframe\">\n  <thead>\n    <tr style=\"text-align: right;\">\n      <th></th>\n      <th>model_name</th>\n      <th>f1</th>\n      <th>precision</th>\n      <th>recall</th>\n      <th>roc_auc</th>\n      <th>fpr</th>\n      <th>tpr</th>\n    </tr>\n  </thead>\n  <tbody>\n    <tr>\n      <th>0</th>\n      <td>LogReg-MMHS150K-en</td>\n      <td>0.455741</td>\n      <td>0.380883</td>\n      <td>0.567221</td>\n      <td>0.660454</td>\n      <td>[0.00000000e+00 0.00000000e+00 2.65111347e-04 ...</td>\n      <td>[0.00000000e+00 2.72702482e-04 2.72702482e-04 ...</td>\n    </tr>\n    <tr>\n      <th>1</th>\n      <td>RanFor-MMHS150K-en</td>\n      <td>0.318569</td>\n      <td>0.438756</td>\n      <td>0.250068</td>\n      <td>0.622628</td>\n      <td>[0.         0.0155532  0.0155532  ... 0.859667...</td>\n      <td>[0.         0.02672484 0.02699755 ... 0.897191...</td>\n    </tr>\n    <tr>\n      <th>2</th>\n      <td>Dummy-MMHS150K-en</td>\n      <td>0.000000</td>\n      <td>0.000000</td>\n      <td>0.000000</td>\n      <td>0.500000</td>\n      <td>[0. 1.]</td>\n      <td>[0. 1.]</td>\n    </tr>\n    <tr>\n      <th>3</th>\n      <td>LogReg-HASOC-en</td>\n      <td>0.507830</td>\n      <td>0.374587</td>\n      <td>0.788194</td>\n      <td>0.748174</td>\n      <td>[0.         0.         0.         0.00462428 0...</td>\n      <td>[0.         0.00347222 0.01736111 0.01736111 0...</td>\n    </tr>\n    <tr>\n      <th>4</th>\n      <td>LogReg-SentiNews-si</td>\n      <td>0.073491</td>\n      <td>0.291667</td>\n      <td>0.042042</td>\n      <td>0.507895</td>\n      <td>[0.         0.         0.00390625 0.00390625 0...</td>\n      <td>[0.         0.003003   0.003003   0.00600601 0...</td>\n    </tr>\n  </tbody>\n</table>\n</div>"
     },
     "metadata": {},
     "execution_count": 2
    }
   ],
   "source": [
    "result_paths = [\n",
    "    \"results/eval-handcrafted-alignment.csv\",\n",
    "    \"results/eval-elmo-alignment.csv\",\n",
    "    \"results/eval-t5.csv\",\n",
    "    \"results/eval-bert.csv\",\n",
    "]\n",
    "\n",
    "results = pd.concat([pd.read_csv(path) for path in  result_paths]).reset_index(drop=True)\n",
    "results.head()"
   ]
  },
  {
   "cell_type": "code",
   "execution_count": 3,
   "metadata": {},
   "outputs": [],
   "source": [
    "\n",
    "latex_results = results[[\"model_name\", \"f1\", \"precision\", \"recall\", \"roc_auc\"]].to_latex(float_format=lambda x: f\"{x:.2f}\"[1:], header=[\"Model\", \"F1\", \"Pr\", \"Re\", \"AUC\"])"
   ]
  },
  {
   "cell_type": "code",
   "execution_count": 4,
   "metadata": {},
   "outputs": [
    {
     "output_type": "stream",
     "name": "stdout",
     "text": [
      "\\begin{tabular}{llrrrr}\n\\toprule\n{} &                        Model &  F1 &  Pr &  Re & AUC \\\\\n\\midrule\n0  &           LogReg-MMHS150K-en & .46 & .38 & .57 & .66 \\\\\n1  &           RanFor-MMHS150K-en & .32 & .44 & .25 & .62 \\\\\n2  &            Dummy-MMHS150K-en & .00 & .00 & .00 & .50 \\\\\n3  &              LogReg-HASOC-en & .51 & .37 & .79 & .75 \\\\\n4  &          LogReg-SentiNews-si & .07 & .29 & .04 & .51 \\\\\n5  &  LogReg-SentiNews-si-aligned & .39 & .41 & .38 & .52 \\\\\n6  &              RanFor-HASOC-en & .44 & .57 & .36 & .72 \\\\\n7  &          RanFor-SentiNews-si & .22 & .34 & .16 & .47 \\\\\n8  &  RanFor-SentiNews-si-aligned & .02 & .27 & .01 & .48 \\\\\n9  &              T5-RedditGab-en & .84 & .90 & .79 & .87 \\\\\n10 &              T5-SentiNews-si & .35 & .45 & .28 & .52 \\\\\n11 &                      T5-X-en & .83 & .90 & .77 & .86 \\\\\n12 &                      T5-X-si & .06 & .46 & .03 & .50 \\\\\n13 &             mT5-RedditGab-en & .00 & .00 & .00 & .50 \\\\\n14 &             mT5-SentiNews-si & .00 & .00 & .00 & .50 \\\\\n15 &                     mT5-X-en & .00 & .00 & .00 & .50 \\\\\n16 &                     mT5-X-si & .00 & .00 & .00 & .50 \\\\\n17 &             BERT-HASOC-en-en & .64 & .51 & .86 & .89 \\\\\n18 &             BERT-HASOC-en-de & .24 & .22 & .27 & .65 \\\\\n19 &             BERT-HASOC-en-hi & .01 & .50 & .01 & .58 \\\\\n20 &   BERT-HASOC-en-SentiNews-si & .08 & .45 & .04 & .57 \\\\\n21 &            mBERT-HASOC-en-en & .62 & .50 & .83 & .87 \\\\\n22 &            mBERT-HASOC-en-de & .39 & .29 & .59 & .71 \\\\\n23 &            mBERT-HASOC-en-hi & .38 & .57 & .28 & .58 \\\\\n24 &  mBERT-HASOC-en-SentiNews-si & .05 & .67 & .02 & .58 \\\\\n25 &                    BERT-X-en & .63 & .54 & .75 & .83 \\\\\n26 &                    BERT-X-de & .00 & .00 & .00 & .57 \\\\\n27 &                    BERT-X-hi & .68 & .56 & .84 & .74 \\\\\n28 &                    BERT-X-si & .67 & .61 & .75 & .80 \\\\\n29 &                   mBERT-X-en & .57 & .42 & .89 & .85 \\\\\n30 &                   mBERT-X-de & .04 & .21 & .02 & .67 \\\\\n31 &                   mBERT-X-hi & .73 & .63 & .86 & .83 \\\\\n32 &                   mBERT-X-si & .68 & .59 & .80 & .82 \\\\\n\\bottomrule\n\\end{tabular}\n\n"
     ]
    }
   ],
   "source": [
    "print(latex_results)"
   ]
  },
  {
   "cell_type": "code",
   "execution_count": 5,
   "metadata": {},
   "outputs": [],
   "source": [
    "with open(\"results/aggregated-results.tex\", \"w\") as f:\n",
    "    f.write(latex_results)"
   ]
  },
  {
   "cell_type": "code",
   "execution_count": 6,
   "metadata": {},
   "outputs": [],
   "source": [
    "%reset"
   ]
  }
 ]
}