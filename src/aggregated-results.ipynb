{
 "metadata": {
  "language_info": {
   "codemirror_mode": {
    "name": "ipython",
    "version": 3
   },
   "file_extension": ".py",
   "mimetype": "text/x-python",
   "name": "python",
   "nbconvert_exporter": "python",
   "pygments_lexer": "ipython3",
   "version": "3.6.13"
  },
  "orig_nbformat": 2,
  "kernelspec": {
   "name": "python3613jvsc74a57bd08f0523b40f8f11b72f4158a3062e286928af15854e1529d4f375246e1121ff4b",
   "display_name": "Python 3.6.13 64-bit ('nlp': conda)"
  }
 },
 "nbformat": 4,
 "nbformat_minor": 2,
 "cells": [
  {
   "cell_type": "code",
   "execution_count": 1,
   "metadata": {},
   "outputs": [],
   "source": [
    "import pandas as pd\n",
    "import matplotlib.pyplot as plt"
   ]
  },
  {
   "cell_type": "code",
   "execution_count": 2,
   "metadata": {},
   "outputs": [
    {
     "output_type": "execute_result",
     "data": {
      "text/plain": [
       "            model_name        f1  precision    recall   roc_auc  \\\n",
       "0   LogReg-MMHS150K-en  0.455741   0.380883  0.567221  0.660454   \n",
       "1   RanFor-MMHS150K-en  0.318569   0.438756  0.250068  0.622628   \n",
       "2    Dummy-MMHS150K-en  0.000000   0.000000  0.000000  0.500000   \n",
       "3      LogReg-HASOC-en  0.507830   0.374587  0.788194  0.748174   \n",
       "4  LogReg-SentiNews-si  0.073491   0.291667  0.042042  0.507895   \n",
       "\n",
       "                                                 fpr  \\\n",
       "0  [0.00000000e+00 0.00000000e+00 2.65111347e-04 ...   \n",
       "1  [0.         0.0155532  0.0155532  ... 0.859667...   \n",
       "2                                            [0. 1.]   \n",
       "3  [0.         0.         0.         0.00462428 0...   \n",
       "4  [0.         0.         0.00390625 0.00390625 0...   \n",
       "\n",
       "                                                 tpr  \n",
       "0  [0.00000000e+00 2.72702482e-04 2.72702482e-04 ...  \n",
       "1  [0.         0.02672484 0.02699755 ... 0.897191...  \n",
       "2                                            [0. 1.]  \n",
       "3  [0.         0.00347222 0.01736111 0.01736111 0...  \n",
       "4  [0.         0.003003   0.003003   0.00600601 0...  "
      ],
      "text/html": "<div>\n<style scoped>\n    .dataframe tbody tr th:only-of-type {\n        vertical-align: middle;\n    }\n\n    .dataframe tbody tr th {\n        vertical-align: top;\n    }\n\n    .dataframe thead th {\n        text-align: right;\n    }\n</style>\n<table border=\"1\" class=\"dataframe\">\n  <thead>\n    <tr style=\"text-align: right;\">\n      <th></th>\n      <th>model_name</th>\n      <th>f1</th>\n      <th>precision</th>\n      <th>recall</th>\n      <th>roc_auc</th>\n      <th>fpr</th>\n      <th>tpr</th>\n    </tr>\n  </thead>\n  <tbody>\n    <tr>\n      <th>0</th>\n      <td>LogReg-MMHS150K-en</td>\n      <td>0.455741</td>\n      <td>0.380883</td>\n      <td>0.567221</td>\n      <td>0.660454</td>\n      <td>[0.00000000e+00 0.00000000e+00 2.65111347e-04 ...</td>\n      <td>[0.00000000e+00 2.72702482e-04 2.72702482e-04 ...</td>\n    </tr>\n    <tr>\n      <th>1</th>\n      <td>RanFor-MMHS150K-en</td>\n      <td>0.318569</td>\n      <td>0.438756</td>\n      <td>0.250068</td>\n      <td>0.622628</td>\n      <td>[0.         0.0155532  0.0155532  ... 0.859667...</td>\n      <td>[0.         0.02672484 0.02699755 ... 0.897191...</td>\n    </tr>\n    <tr>\n      <th>2</th>\n      <td>Dummy-MMHS150K-en</td>\n      <td>0.000000</td>\n      <td>0.000000</td>\n      <td>0.000000</td>\n      <td>0.500000</td>\n      <td>[0. 1.]</td>\n      <td>[0. 1.]</td>\n    </tr>\n    <tr>\n      <th>3</th>\n      <td>LogReg-HASOC-en</td>\n      <td>0.507830</td>\n      <td>0.374587</td>\n      <td>0.788194</td>\n      <td>0.748174</td>\n      <td>[0.         0.         0.         0.00462428 0...</td>\n      <td>[0.         0.00347222 0.01736111 0.01736111 0...</td>\n    </tr>\n    <tr>\n      <th>4</th>\n      <td>LogReg-SentiNews-si</td>\n      <td>0.073491</td>\n      <td>0.291667</td>\n      <td>0.042042</td>\n      <td>0.507895</td>\n      <td>[0.         0.         0.00390625 0.00390625 0...</td>\n      <td>[0.         0.003003   0.003003   0.00600601 0...</td>\n    </tr>\n  </tbody>\n</table>\n</div>"
     },
     "metadata": {},
     "execution_count": 2
    }
   ],
   "source": [
    "result_paths = [\n",
    "    \"results/eval-handcrafted-alignment.csv\",\n",
    "    \"results/eval-elmo-alignment.csv\",\n",
    "    \"results/eval-t5.csv\",\n",
    "    \"results/eval-bert.csv\",\n",
    "]\n",
    "\n",
    "results = pd.concat([pd.read_csv(path) for path in  result_paths]).reset_index(drop=True)\n",
    "results.head()"
   ]
  },
  {
   "cell_type": "code",
   "execution_count": 3,
   "metadata": {},
   "outputs": [
    {
     "output_type": "execute_result",
     "data": {
      "text/plain": [
       "33"
      ]
     },
     "metadata": {},
     "execution_count": 3
    }
   ],
   "source": [
    "len(results)"
   ]
  },
  {
   "cell_type": "code",
   "execution_count": 4,
   "metadata": {},
   "outputs": [],
   "source": [
    "\n",
    "latex_results = results.to_latex(columns=(set(results.columns) - {\"fpr\", \"tpr\"}), float_format=\"%.3f\")"
   ]
  },
  {
   "cell_type": "code",
   "execution_count": 5,
   "metadata": {},
   "outputs": [
    {
     "output_type": "stream",
     "name": "stdout",
     "text": [
      "\\begin{tabular}{lrlrrr}\n\\toprule\n{} &  recall &                   model\\_name &    f1 &  precision &  roc\\_auc \\\\\n\\midrule\n0  &   0.567 &           LogReg-MMHS150K-en & 0.456 &      0.381 &    0.660 \\\\\n1  &   0.250 &           RanFor-MMHS150K-en & 0.319 &      0.439 &    0.623 \\\\\n2  &   0.000 &            Dummy-MMHS150K-en & 0.000 &      0.000 &    0.500 \\\\\n3  &   0.788 &              LogReg-HASOC-en & 0.508 &      0.375 &    0.748 \\\\\n4  &   0.042 &          LogReg-SentiNews-si & 0.073 &      0.292 &    0.508 \\\\\n5  &   0.378 &  LogReg-SentiNews-si-aligned & 0.391 &      0.405 &    0.517 \\\\\n6  &   0.361 &              RanFor-HASOC-en & 0.443 &      0.575 &    0.724 \\\\\n7  &   0.159 &          RanFor-SentiNews-si & 0.216 &      0.338 &    0.473 \\\\\n8  &   0.009 &  RanFor-SentiNews-si-aligned & 0.017 &      0.273 &    0.478 \\\\\n9  &   0.791 &              T5-RedditGab-en & 0.841 &      0.897 &    0.869 \\\\\n10 &   0.285 &              T5-SentiNews-si & 0.349 &      0.453 &    0.518 \\\\\n11 &   0.767 &                      T5-X-en & 0.829 &      0.903 &    0.859 \\\\\n12 &   0.034 &                      T5-X-si & 0.063 &      0.462 &    0.503 \\\\\n13 &   0.000 &             mT5-RedditGab-en & 0.000 &      0.000 &    0.500 \\\\\n14 &   0.000 &             mT5-SentiNews-si & 0.000 &      0.000 &    0.500 \\\\\n15 &   0.000 &                     mT5-X-en & 0.000 &      0.000 &    0.500 \\\\\n16 &   0.000 &                     mT5-X-si & 0.000 &      0.000 &    0.500 \\\\\n17 &   0.865 &             BERT-HASOC-en-en & 0.644 &      0.513 &    0.888 \\\\\n18 &   0.272 &             BERT-HASOC-en-de & 0.243 &      0.219 &    0.652 \\\\\n19 &   0.007 &             BERT-HASOC-en-hi & 0.013 &      0.500 &    0.582 \\\\\n20 &   0.043 &   BERT-HASOC-en-SentiNews-si & 0.079 &      0.452 &    0.570 \\\\\n21 &   0.826 &            mBERT-HASOC-en-en & 0.623 &      0.500 &    0.865 \\\\\n22 &   0.588 &            mBERT-HASOC-en-de & 0.392 &      0.294 &    0.715 \\\\\n23 &   0.279 &            mBERT-HASOC-en-hi & 0.375 &      0.571 &    0.577 \\\\\n24 &   0.025 &  mBERT-HASOC-en-SentiNews-si & 0.048 &      0.667 &    0.578 \\\\\n25 &   0.747 &                    BERT-X-en & 0.627 &      0.540 &    0.833 \\\\\n26 &   0.000 &                    BERT-X-de & 0.000 &      0.000 &    0.566 \\\\\n27 &   0.845 &                    BERT-X-hi & 0.675 &      0.562 &    0.738 \\\\\n28 &   0.752 &                    BERT-X-si & 0.673 &      0.610 &    0.797 \\\\\n29 &   0.885 &                   mBERT-X-en & 0.572 &      0.422 &    0.846 \\\\\n30 &   0.022 &                   mBERT-X-de & 0.040 &      0.214 &    0.666 \\\\\n31 &   0.861 &                   mBERT-X-hi & 0.728 &      0.630 &    0.832 \\\\\n32 &   0.804 &                   mBERT-X-si & 0.682 &      0.593 &    0.819 \\\\\n\\bottomrule\n\\end{tabular}\n\n"
     ]
    }
   ],
   "source": [
    "print(latex_results)"
   ]
  },
  {
   "cell_type": "code",
   "execution_count": 6,
   "metadata": {},
   "outputs": [],
   "source": [
    "with open(\"results/aggregated-results.tex\", \"w\") as f:\n",
    "    f.write(latex_results)"
   ]
  },
  {
   "cell_type": "code",
   "execution_count": 7,
   "metadata": {},
   "outputs": [],
   "source": [
    "%reset"
   ]
  }
 ]
}